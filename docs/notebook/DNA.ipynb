{
 "cells": [
  {
   "cell_type": "code",
   "execution_count": 27,
   "metadata": {},
   "outputs": [],
   "source": [
    "def CountDNA(DNAString):\n",
    "    numDNA = [0, 0, 0, 0]\n",
    "    for i in DNAString:\n",
    "        if i == 'A':\n",
    "            numDNA[0] = numDNA[0] + 1\n",
    "        elif i == 'C':\n",
    "            numDNA[1] = numDNA[1] + 1\n",
    "        elif i == 'G':\n",
    "            numDNA[2] = numDNA[2] + 1\n",
    "        elif i == 'T':            \n",
    "            numDNA[3] = numDNA[3] + 1            \n",
    "    return(numDNA)"
   ]
  },
  {
   "cell_type": "code",
   "execution_count": 28,
   "metadata": {},
   "outputs": [
    {
     "name": "stdout",
     "output_type": "stream",
     "text": [
      "200 223 209 209\n"
     ]
    }
   ],
   "source": [
    "DataSet = \"GCTGGGCCATATGAAATGATGTAGGGGAATTGAGACTACATTACTTTTAGACTAATCAACCCTCCACACGCTTGTGTGTCCTAGCTCGTGCAACAACCGTTGCGTCCGGTGATGCACTAGGGGAAACTATCCGGCACCGATCTTTATTCAGGGTATATGGCGGAAAAGGTTCCCCGCTCATTTCACATGAGATGCACTACATCAGTGCTTCATTCGGCAACACTCAGACTATGCAGCTACTGATTATAACGGAGACGCTCGAAGCCAAGCTGAGACCTATTAGTATAGAGGGCTCCATGGGCGCACAGCTCGGCTGCCCCGCCAAGAAATGCCCCAGCACCTGCAAGTTCATTGACGCTATCGTGCTTTCCAACCATTTTCGCCTTCGTGAGTGCAATTTTTCTAGATGTTCAGTGGCCATCGCCACCATTTTAGTTTAACAGTACGATAGCCGGGGTATATGAAGTGCGGACCGTGTTACTGATCTCTCGGTGGCTCCCCGAATGGTCGCAGACGCAGCCCTAGCGATCCGGGCGTAAATGACTCGCCTTATGTGTCCTTCATTCGGTCCATAGGAAGACAACTCATTGGGTGCAAGTGAGGAGGGTTCCACACGCCCAGGTTGCGCTGGACCAGTATGTGTTGGTAGCAGATCTCCCGTGCTAGGATAATCTTTGTACCGCAGCAGAGGTACACATGCCAGCTATAGTCCCGATATACTCGGGTAGCACATCCCTGACCCAACTGTGTTCCATAGAGTAGTGCCGTGTCGAATTCGTTGGCTAAACCAGCACACGTCGAGGGCATACGCGAGGCCTCACCTAAATAGCCGTTACTTACT\"\n",
    "print(*CountDNA(DataSet))"
   ]
  },
  {
   "cell_type": "code",
   "execution_count": 29,
   "metadata": {},
   "outputs": [
    {
     "name": "stdout",
     "output_type": "stream",
     "text": [
      "200 223 209 209\n"
     ]
    }
   ],
   "source": [
    "file = open('./rosalind_dna.txt')\n",
    "DNAString = file.read()\n",
    "DNAString = DNAString.strip()\n",
    "DNAFreq = {'A':0, 'C':0, 'G':0, 'T':0}\n",
    "for i in DNAString:\n",
    "    DNAFreq[i] = DNAFreq[i] + 1\n",
    "    \n",
    "print(DNAFreq['A'], DNAFreq['C'], DNAFreq['G'], DNAFreq['T'])"
   ]
  },
  {
   "cell_type": "code",
   "execution_count": 30,
   "metadata": {},
   "outputs": [
    {
     "name": "stdout",
     "output_type": "stream",
     "text": [
      "200 223 209 209\n"
     ]
    }
   ],
   "source": [
    "print(*map(DNAString.count, \"ACGT\"))"
   ]
  },
  {
   "cell_type": "code",
   "execution_count": null,
   "metadata": {},
   "outputs": [],
   "source": []
  }
 ],
 "metadata": {
  "kernelspec": {
   "display_name": "Python 3",
   "language": "python",
   "name": "python3"
  },
  "language_info": {
   "codemirror_mode": {
    "name": "ipython",
    "version": 3
   },
   "file_extension": ".py",
   "mimetype": "text/x-python",
   "name": "python",
   "nbconvert_exporter": "python",
   "pygments_lexer": "ipython3",
   "version": "3.7.1"
  }
 },
 "nbformat": 4,
 "nbformat_minor": 2
}
